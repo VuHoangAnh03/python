{
  "nbformat": 4,
  "nbformat_minor": 0,
  "metadata": {
    "colab": {
      "name": "Untitled3.ipynb",
      "provenance": [],
      "authorship_tag": "ABX9TyO2p+v2AZ8I1+g2VE1WgZpk",
      "include_colab_link": true
    },
    "kernelspec": {
      "name": "python3",
      "display_name": "Python 3"
    },
    "language_info": {
      "name": "python"
    }
  },
  "cells": [
    {
      "cell_type": "markdown",
      "metadata": {
        "id": "view-in-github",
        "colab_type": "text"
      },
      "source": [
        "<a href=\"https://colab.research.google.com/github/VuHoangAnh03/python/blob/main/Th%E1%BB%B1c%20h%C3%A0nh%201%20to%C3%A1n%20r%E1%BB%9Di%20r%E1%BA%A1c.ipynb\" target=\"_parent\"><img src=\"https://colab.research.google.com/assets/colab-badge.svg\" alt=\"Open In Colab\"/></a>"
      ]
    },
    {
      "cell_type": "code",
      "execution_count": 2,
      "metadata": {
        "colab": {
          "base_uri": "https://localhost:8080/"
        },
        "id": "44CukiEV1reE",
        "outputId": "770cc65b-8e42-4d3c-9f18-73466eb19397"
      },
      "outputs": [
        {
          "output_type": "execute_result",
          "data": {
            "text/plain": [
              "[0, 2, 4, 6, 8, 10, 12, 14, 16, 18, 20, 22, 24, 26, 28, 30, 32, 34, 36, 38]"
            ]
          },
          "metadata": {},
          "execution_count": 2
        }
      ],
      "source": [
        "s = [2*x for x in range(20)]\n",
        "s"
      ]
    },
    {
      "cell_type": "code",
      "source": [
        "A = set([x for x in range(-50,50) if x**2  +x -6==0])\n",
        "A"
      ],
      "metadata": {
        "colab": {
          "base_uri": "https://localhost:8080/"
        },
        "id": "34Uq6s7o2jlC",
        "outputId": "ac24b99c-b87e-4ca1-e0f9-6a145d95f9e3"
      },
      "execution_count": 4,
      "outputs": [
        {
          "output_type": "execute_result",
          "data": {
            "text/plain": [
              "{-3, 2}"
            ]
          },
          "metadata": {},
          "execution_count": 4
        }
      ]
    },
    {
      "cell_type": "code",
      "source": [
        "B = set([2, -3])\n",
        "B"
      ],
      "metadata": {
        "colab": {
          "base_uri": "https://localhost:8080/"
        },
        "id": "yZY1dCCq21bS",
        "outputId": "aa482264-1004-40e4-8986-881ec6b1fdf2"
      },
      "execution_count": 6,
      "outputs": [
        {
          "output_type": "execute_result",
          "data": {
            "text/plain": [
              "{-3, 2}"
            ]
          },
          "metadata": {},
          "execution_count": 6
        }
      ]
    },
    {
      "cell_type": "code",
      "source": [
        "A==B"
      ],
      "metadata": {
        "colab": {
          "base_uri": "https://localhost:8080/"
        },
        "id": "yW01-npE3Pim",
        "outputId": "bb15460b-2639-47fc-fcb0-0d98d86ff100"
      },
      "execution_count": 9,
      "outputs": [
        {
          "output_type": "execute_result",
          "data": {
            "text/plain": [
              "True"
            ]
          },
          "metadata": {},
          "execution_count": 9
        }
      ]
    },
    {
      "cell_type": "markdown",
      "source": [
        "Vi du 3"
      ],
      "metadata": {
        "id": "kOEAOHTU4WRJ"
      }
    },
    {
      "cell_type": "code",
      "source": [
        "def isPrime(N):\n",
        "  for i in [x+1 for x in range(N)]:\n",
        "    if N % i ==0 and (i!=1 and i!=N):\n",
        "      return False\n",
        "  return True\n",
        "S_prime=[isPrime(k) for k in range(1,40)]\n",
        "S_prime"
      ],
      "metadata": {
        "colab": {
          "base_uri": "https://localhost:8080/"
        },
        "id": "XzDrs-p04dnz",
        "outputId": "f0d4901f-d227-4ff2-8b6b-0e090a04c8ad"
      },
      "execution_count": 12,
      "outputs": [
        {
          "output_type": "execute_result",
          "data": {
            "text/plain": [
              "[True,\n",
              " True,\n",
              " True,\n",
              " False,\n",
              " True,\n",
              " False,\n",
              " True,\n",
              " False,\n",
              " False,\n",
              " False,\n",
              " True,\n",
              " False,\n",
              " True,\n",
              " False,\n",
              " False,\n",
              " False,\n",
              " True,\n",
              " False,\n",
              " True,\n",
              " False,\n",
              " False,\n",
              " False,\n",
              " True,\n",
              " False,\n",
              " False,\n",
              " False,\n",
              " False,\n",
              " False,\n",
              " True,\n",
              " False,\n",
              " True,\n",
              " False,\n",
              " False,\n",
              " False,\n",
              " False,\n",
              " False,\n",
              " True,\n",
              " False,\n",
              " False]"
            ]
          },
          "metadata": {},
          "execution_count": 12
        }
      ]
    },
    {
      "cell_type": "markdown",
      "source": [
        "vi du 4\n"
      ],
      "metadata": {
        "id": "CWHcf6E86hyS"
      }
    },
    {
      "cell_type": "code",
      "source": [
        "Apro = set([2*x*y for x in range(-50,50) if x **2+x-6 == 0 for y in [1, 10, 100]])\n",
        "Apro"
      ],
      "metadata": {
        "colab": {
          "base_uri": "https://localhost:8080/"
        },
        "id": "LxuRvL5p6jLy",
        "outputId": "0fa01f5e-9e53-462a-f9d8-5c819ceb3f5b"
      },
      "execution_count": 16,
      "outputs": [
        {
          "output_type": "execute_result",
          "data": {
            "text/plain": [
              "{-600, -60, -6, 4, 40, 400}"
            ]
          },
          "metadata": {},
          "execution_count": 16
        }
      ]
    },
    {
      "cell_type": "markdown",
      "source": [
        "vi du 5"
      ],
      "metadata": {
        "id": "H24HIzZS7af2"
      }
    },
    {
      "cell_type": "code",
      "source": [
        "AB = set([(x,2*y) for x in range(-50,50)if x **2+x-6 ==0 for y in [1, 10, 100]])\n",
        "AB\n"
      ],
      "metadata": {
        "colab": {
          "base_uri": "https://localhost:8080/"
        },
        "id": "P7O1bHkc7dJa",
        "outputId": "ef15ad7b-0416-4e1a-901f-c4a6958c41cf"
      },
      "execution_count": 18,
      "outputs": [
        {
          "output_type": "execute_result",
          "data": {
            "text/plain": [
              "{(-3, 2), (-3, 20), (-3, 200), (2, 2), (2, 20), (2, 200)}"
            ]
          },
          "metadata": {},
          "execution_count": 18
        }
      ]
    },
    {
      "cell_type": "code",
      "source": [
        "from sympy import FiniteSet \n",
        "s = FiniteSet(3, 5, 7)\n",
        "s"
      ],
      "metadata": {
        "colab": {
          "base_uri": "https://localhost:8080/",
          "height": 37
        },
        "id": "sQvUP_oj-sU6",
        "outputId": "ca66052b-108d-495c-ebb0-3c9b57793f94"
      },
      "execution_count": 20,
      "outputs": [
        {
          "output_type": "execute_result",
          "data": {
            "text/plain": [
              "FiniteSet(3, 5, 7)"
            ],
            "text/latex": "$\\displaystyle \\left\\{3, 5, 7\\right\\}$"
          },
          "metadata": {},
          "execution_count": 20
        }
      ]
    },
    {
      "cell_type": "code",
      "source": [
        "from sympy import FiniteSet \n",
        "from fractions import Fraction \n",
        "s = FiniteSet(1, 1.5, Fraction(1, 5))\n",
        "s"
      ],
      "metadata": {
        "colab": {
          "base_uri": "https://localhost:8080/",
          "height": 58
        },
        "id": "yVyUtwJt_JAM",
        "outputId": "645d114a-ee14-4022-d99a-327f584cba0e"
      },
      "execution_count": 22,
      "outputs": [
        {
          "output_type": "execute_result",
          "data": {
            "text/plain": [
              "FiniteSet(1/5, 1, 1.5)"
            ],
            "text/latex": "$\\displaystyle \\left\\{\\frac{1}{5}, 1, 1.5\\right\\}$"
          },
          "metadata": {},
          "execution_count": 22
        }
      ]
    },
    {
      "cell_type": "code",
      "source": [
        "s = FiniteSet(1, 1.5, Fraction(8, 2)) \n",
        "s"
      ],
      "metadata": {
        "colab": {
          "base_uri": "https://localhost:8080/",
          "height": 37
        },
        "id": "u86CvBgb_SzT",
        "outputId": "7d7a5dd1-3caf-4824-95bf-a3e6b898bd71"
      },
      "execution_count": 24,
      "outputs": [
        {
          "output_type": "execute_result",
          "data": {
            "text/plain": [
              "FiniteSet(1, 1.5, 4)"
            ],
            "text/latex": "$\\displaystyle \\left\\{1, 1.5, 4\\right\\}$"
          },
          "metadata": {},
          "execution_count": 24
        }
      ]
    },
    {
      "cell_type": "code",
      "source": [
        "len(s)"
      ],
      "metadata": {
        "colab": {
          "base_uri": "https://localhost:8080/"
        },
        "id": "uvTJcpMi_XxD",
        "outputId": "5cc81809-3a0d-49fa-88a7-a86f05227c0f"
      },
      "execution_count": 26,
      "outputs": [
        {
          "output_type": "execute_result",
          "data": {
            "text/plain": [
              "3"
            ]
          },
          "metadata": {},
          "execution_count": 26
        }
      ]
    },
    {
      "cell_type": "code",
      "source": [
        "8 in s "
      ],
      "metadata": {
        "colab": {
          "base_uri": "https://localhost:8080/"
        },
        "id": "VTC_Fyz2DAzA",
        "outputId": "8378cf3f-cc46-4f20-ecee-39d1b1b3286a"
      },
      "execution_count": 27,
      "outputs": [
        {
          "output_type": "execute_result",
          "data": {
            "text/plain": [
              "False"
            ]
          },
          "metadata": {},
          "execution_count": 27
        }
      ]
    },
    {
      "cell_type": "code",
      "source": [
        "1 in s "
      ],
      "metadata": {
        "colab": {
          "base_uri": "https://localhost:8080/"
        },
        "id": "wCZS7_sJDm1F",
        "outputId": "7622a791-4002-4980-e6eb-83e817159408"
      },
      "execution_count": 28,
      "outputs": [
        {
          "output_type": "execute_result",
          "data": {
            "text/plain": [
              "True"
            ]
          },
          "metadata": {},
          "execution_count": 28
        }
      ]
    },
    {
      "cell_type": "code",
      "source": [
        " from sympy import FiniteSet \n",
        " s = FiniteSet() \n",
        " s\n"
      ],
      "metadata": {
        "colab": {
          "base_uri": "https://localhost:8080/",
          "height": 37
        },
        "id": "ktgmRPu7DuXX",
        "outputId": "07d5af3f-5248-4a1c-988d-5fca20508906"
      },
      "execution_count": 30,
      "outputs": [
        {
          "output_type": "execute_result",
          "data": {
            "text/plain": [
              "EmptySet"
            ],
            "text/latex": "$\\displaystyle \\emptyset$"
          },
          "metadata": {},
          "execution_count": 30
        }
      ]
    },
    {
      "cell_type": "code",
      "source": [
        "phantu = [2, 4, 6, 8, 10]\n",
        "tap = FiniteSet(*phantu) \n",
        "tap "
      ],
      "metadata": {
        "colab": {
          "base_uri": "https://localhost:8080/",
          "height": 37
        },
        "id": "2sSc6K5_EE5E",
        "outputId": "2ce91c0c-1040-4db0-e367-68b93f891bd5"
      },
      "execution_count": 33,
      "outputs": [
        {
          "output_type": "execute_result",
          "data": {
            "text/plain": [
              "FiniteSet(2, 4, 6, 8, 10)"
            ],
            "text/latex": "$\\displaystyle \\left\\{2, 4, 6, 8, 10\\right\\}$"
          },
          "metadata": {},
          "execution_count": 33
        }
      ]
    },
    {
      "cell_type": "code",
      "source": [
        " from sympy import FiniteSet \n",
        " phantu = [6, 7, 8, 9, 6, 7] \n",
        " taphop = FiniteSet(*phantu)\n",
        " taphop "
      ],
      "metadata": {
        "colab": {
          "base_uri": "https://localhost:8080/",
          "height": 37
        },
        "id": "2g7sYBYPEMuE",
        "outputId": "283326ca-5859-4f58-961b-24d7b859d8a8"
      },
      "execution_count": 34,
      "outputs": [
        {
          "output_type": "execute_result",
          "data": {
            "text/plain": [
              "FiniteSet(6, 7, 8, 9)"
            ],
            "text/latex": "$\\displaystyle \\left\\{6, 7, 8, 9\\right\\}$"
          },
          "metadata": {},
          "execution_count": 34
        }
      ]
    },
    {
      "cell_type": "code",
      "source": [
        "for thanhphan in taphop:\n",
        "  print(thanhphan) "
      ],
      "metadata": {
        "colab": {
          "base_uri": "https://localhost:8080/"
        },
        "id": "cZI2ROcWEeYo",
        "outputId": "d91d715e-96f8-4a16-f714-0b8c68b3cab7"
      },
      "execution_count": 35,
      "outputs": [
        {
          "output_type": "stream",
          "name": "stdout",
          "text": [
            "6\n",
            "7\n",
            "8\n",
            "9\n"
          ]
        }
      ]
    },
    {
      "cell_type": "code",
      "source": [
        "from sympy import FiniteSet \n",
        "ds1 = [2, 4, 6] \n",
        "ds2 = [6, 2, 4] \n",
        "ds1 == ds2 "
      ],
      "metadata": {
        "colab": {
          "base_uri": "https://localhost:8080/"
        },
        "id": "QKKKH6jhEkL4",
        "outputId": "ed3a26dc-8018-4146-f328-b01093d6a8f8"
      },
      "execution_count": 36,
      "outputs": [
        {
          "output_type": "execute_result",
          "data": {
            "text/plain": [
              "False"
            ]
          },
          "metadata": {},
          "execution_count": 36
        }
      ]
    },
    {
      "cell_type": "code",
      "source": [
        "s = FiniteSet(*ds1) \n",
        "t = FiniteSet(*ds2) \n",
        "s == t "
      ],
      "metadata": {
        "colab": {
          "base_uri": "https://localhost:8080/"
        },
        "id": "9SDaZNXAExdQ",
        "outputId": "9718867f-2b64-4bd9-efaf-40560177dcf4"
      },
      "execution_count": 37,
      "outputs": [
        {
          "output_type": "execute_result",
          "data": {
            "text/plain": [
              "True"
            ]
          },
          "metadata": {},
          "execution_count": 37
        }
      ]
    },
    {
      "cell_type": "code",
      "source": [
        "s = FiniteSet(1) \n",
        "t = FiniteSet(1,2) \n",
        "s.is_subset(t) "
      ],
      "metadata": {
        "colab": {
          "base_uri": "https://localhost:8080/"
        },
        "id": "yxHwjPkDE7Yj",
        "outputId": "49acfcf5-e74f-4f3f-a3e4-012fb061888d"
      },
      "execution_count": 38,
      "outputs": [
        {
          "output_type": "execute_result",
          "data": {
            "text/plain": [
              "True"
            ]
          },
          "metadata": {},
          "execution_count": 38
        }
      ]
    },
    {
      "cell_type": "code",
      "source": [
        "t.is_subset(s)"
      ],
      "metadata": {
        "colab": {
          "base_uri": "https://localhost:8080/"
        },
        "id": "O1c6gIelFBgu",
        "outputId": "bf55c218-7c93-44e2-d23b-99c993b2a604"
      },
      "execution_count": 39,
      "outputs": [
        {
          "output_type": "execute_result",
          "data": {
            "text/plain": [
              "False"
            ]
          },
          "metadata": {},
          "execution_count": 39
        }
      ]
    },
    {
      "cell_type": "code",
      "source": [
        "t.is_subset(t) "
      ],
      "metadata": {
        "colab": {
          "base_uri": "https://localhost:8080/"
        },
        "id": "WeZBonTaFFkF",
        "outputId": "68521245-16ac-41fe-f05d-dc00326e89ce"
      },
      "execution_count": 40,
      "outputs": [
        {
          "output_type": "execute_result",
          "data": {
            "text/plain": [
              "True"
            ]
          },
          "metadata": {},
          "execution_count": 40
        }
      ]
    },
    {
      "cell_type": "code",
      "source": [
        "s.is_superset(t) "
      ],
      "metadata": {
        "colab": {
          "base_uri": "https://localhost:8080/"
        },
        "id": "3z4SXMKLFIwh",
        "outputId": "9f02e261-e97a-45d2-ed1c-de5aaaafa17a"
      },
      "execution_count": 41,
      "outputs": [
        {
          "output_type": "execute_result",
          "data": {
            "text/plain": [
              "False"
            ]
          },
          "metadata": {},
          "execution_count": 41
        }
      ]
    },
    {
      "cell_type": "code",
      "source": [
        " t.is_superset(s)"
      ],
      "metadata": {
        "colab": {
          "base_uri": "https://localhost:8080/"
        },
        "id": "hpEA1BeAFLTO",
        "outputId": "0cce98d4-c67e-4abb-8b93-bef37e8886f5"
      },
      "execution_count": 42,
      "outputs": [
        {
          "output_type": "execute_result",
          "data": {
            "text/plain": [
              "True"
            ]
          },
          "metadata": {},
          "execution_count": 42
        }
      ]
    },
    {
      "cell_type": "code",
      "source": [
        "s = FiniteSet(1,2,3) \n",
        "ps = s.powerset() \n",
        "len(ps)"
      ],
      "metadata": {
        "colab": {
          "base_uri": "https://localhost:8080/"
        },
        "id": "H2YlZlO7FOPM",
        "outputId": "4e97e911-638b-43a7-f581-5b4f48576134"
      },
      "execution_count": 43,
      "outputs": [
        {
          "output_type": "execute_result",
          "data": {
            "text/plain": [
              "8"
            ]
          },
          "metadata": {},
          "execution_count": 43
        }
      ]
    },
    {
      "cell_type": "code",
      "source": [
        "ps "
      ],
      "metadata": {
        "colab": {
          "base_uri": "https://localhost:8080/",
          "height": 37
        },
        "id": "KTSG8ycKFUCk",
        "outputId": "3b3b1a77-5572-4921-dadd-7ac503149786"
      },
      "execution_count": 44,
      "outputs": [
        {
          "output_type": "execute_result",
          "data": {
            "text/plain": [
              "FiniteSet(FiniteSet(1), FiniteSet(1, 2), FiniteSet(1, 3), FiniteSet(1, 2, 3), FiniteSet(2), FiniteSet(2, 3), FiniteSet(3), EmptySet)"
            ],
            "text/latex": "$\\displaystyle \\left\\{\\emptyset, \\left\\{1\\right\\}, \\left\\{2\\right\\}, \\left\\{3\\right\\}, \\left\\{1, 2\\right\\}, \\left\\{1, 3\\right\\}, \\left\\{2, 3\\right\\}, \\left\\{1, 2, 3\\right\\}\\right\\}$"
          },
          "metadata": {},
          "execution_count": 44
        }
      ]
    },
    {
      "cell_type": "code",
      "source": [
        "from sympy import FiniteSet \n",
        "s = FiniteSet(1, 2, 3) \n",
        "t = FiniteSet(3, 2, 1) \n",
        "s.is_proper_subset(t) "
      ],
      "metadata": {
        "colab": {
          "base_uri": "https://localhost:8080/"
        },
        "id": "GFtOdDfCFXQx",
        "outputId": "abef2cf0-6609-498b-cf24-1d85e7f40e92"
      },
      "execution_count": 45,
      "outputs": [
        {
          "output_type": "execute_result",
          "data": {
            "text/plain": [
              "False"
            ]
          },
          "metadata": {},
          "execution_count": 45
        }
      ]
    },
    {
      "cell_type": "code",
      "source": [
        "t.is_proper_powerset(s) \n"
      ],
      "metadata": {
        "colab": {
          "base_uri": "https://localhost:8080/",
          "height": 165
        },
        "id": "FyONLxBAFgZM",
        "outputId": "b3492bb4-dd9f-4a42-df66-43d5818d4466"
      },
      "execution_count": 48,
      "outputs": [
        {
          "output_type": "error",
          "ename": "AttributeError",
          "evalue": "ignored",
          "traceback": [
            "\u001b[0;31m---------------------------------------------------------------------------\u001b[0m",
            "\u001b[0;31mAttributeError\u001b[0m                            Traceback (most recent call last)",
            "\u001b[0;32m<ipython-input-48-9c4ae1b54b76>\u001b[0m in \u001b[0;36m<module>\u001b[0;34m()\u001b[0m\n\u001b[0;32m----> 1\u001b[0;31m \u001b[0mt\u001b[0m\u001b[0;34m.\u001b[0m\u001b[0mis_proper_powerset\u001b[0m\u001b[0;34m(\u001b[0m\u001b[0ms\u001b[0m\u001b[0;34m)\u001b[0m\u001b[0;34m\u001b[0m\u001b[0;34m\u001b[0m\u001b[0m\n\u001b[0m",
            "\u001b[0;31mAttributeError\u001b[0m: 'FiniteSet' object has no attribute 'is_proper_powerset'"
          ]
        }
      ]
    },
    {
      "cell_type": "code",
      "source": [
        "t = FiniteSet(3, 2, 1, 4) \n",
        "s.is_proper_subset(t) "
      ],
      "metadata": {
        "colab": {
          "base_uri": "https://localhost:8080/"
        },
        "id": "H2R7y_wqF7SP",
        "outputId": "b7fe3fe6-aa0c-44c8-9c12-aa166ec978b8"
      },
      "execution_count": 49,
      "outputs": [
        {
          "output_type": "execute_result",
          "data": {
            "text/plain": [
              "True"
            ]
          },
          "metadata": {},
          "execution_count": 49
        }
      ]
    },
    {
      "cell_type": "code",
      "source": [
        "t.is_proper_ powerset (s) "
      ],
      "metadata": {
        "colab": {
          "base_uri": "https://localhost:8080/",
          "height": 130
        },
        "id": "bTlOC3JqGAyC",
        "outputId": "e744cbba-f7e8-409d-842d-253ff47b8db0"
      },
      "execution_count": 51,
      "outputs": [
        {
          "output_type": "error",
          "ename": "SyntaxError",
          "evalue": "ignored",
          "traceback": [
            "\u001b[0;36m  File \u001b[0;32m\"<ipython-input-51-46b2f6b6d021>\"\u001b[0;36m, line \u001b[0;32m1\u001b[0m\n\u001b[0;31m    t.is_proper_ powerset (s)\u001b[0m\n\u001b[0m                        ^\u001b[0m\n\u001b[0;31mSyntaxError\u001b[0m\u001b[0;31m:\u001b[0m invalid syntax\n"
          ]
        }
      ]
    },
    {
      "cell_type": "code",
      "source": [
        " from sympy import FiniteSet \n",
        " s = FiniteSet(2, 4, 6) \n",
        " t = FiniteSet(3, 5, 7) \n",
        " kq = s.union(t)\n",
        " kq"
      ],
      "metadata": {
        "colab": {
          "base_uri": "https://localhost:8080/",
          "height": 37
        },
        "id": "IGU-KBNEGU3T",
        "outputId": "f11da165-182a-41a7-f128-613852df784f"
      },
      "execution_count": 55,
      "outputs": [
        {
          "output_type": "execute_result",
          "data": {
            "text/plain": [
              "FiniteSet(2, 3, 4, 5, 6, 7)"
            ],
            "text/latex": "$\\displaystyle \\left\\{2, 3, 4, 5, 6, 7\\right\\}$"
          },
          "metadata": {},
          "execution_count": 55
        }
      ]
    },
    {
      "cell_type": "code",
      "source": [
        "from sympy import FiniteSet\n",
        "u = FiniteSet(10, 20, 50)\n",
        "v = FiniteSet(1, 2, 5)\n",
        "u + v\n"
      ],
      "metadata": {
        "colab": {
          "base_uri": "https://localhost:8080/",
          "height": 37
        },
        "id": "Cb_dm82YH-8Q",
        "outputId": "f3603cf5-4f5d-4a57-bdd8-67ee253f0544"
      },
      "execution_count": 59,
      "outputs": [
        {
          "output_type": "execute_result",
          "data": {
            "text/plain": [
              "FiniteSet(1, 2, 5, 10, 20, 50)"
            ],
            "text/latex": "$\\displaystyle \\left\\{1, 2, 5, 10, 20, 50\\right\\}$"
          },
          "metadata": {},
          "execution_count": 59
        }
      ]
    },
    {
      "cell_type": "code",
      "source": [
        "from sympy import FiniteSet \n",
        "s = FiniteSet(1, 2, 10) \n",
        "t = FiniteSet(1, 3, 10)\n",
        "giao = s.intersect(t)\n",
        "giao "
      ],
      "metadata": {
        "colab": {
          "base_uri": "https://localhost:8080/",
          "height": 37
        },
        "id": "L0gzGim7IUs5",
        "outputId": "a3ca702e-2da2-43fc-e42d-ecddd1e1b4c1"
      },
      "execution_count": 62,
      "outputs": [
        {
          "output_type": "execute_result",
          "data": {
            "text/plain": [
              "FiniteSet(1, 10)"
            ],
            "text/latex": "$\\displaystyle \\left\\{1, 10\\right\\}$"
          },
          "metadata": {},
          "execution_count": 62
        }
      ]
    },
    {
      "cell_type": "code",
      "source": [
        "from sympy import FiniteSet\n",
        "s = FiniteSet(1, 2, 10)\n",
        "t = FiniteSet(1, 3, 10)\n",
        "u = FiniteSet(10, 20, 50)\n",
        "hop = s.union(t).union(u)\n",
        "hop "
      ],
      "metadata": {
        "colab": {
          "base_uri": "https://localhost:8080/",
          "height": 37
        },
        "id": "zPVJA5dxIidM",
        "outputId": "9293bc8f-b3dc-4ac1-f0fd-ca8419bd03e9"
      },
      "execution_count": 63,
      "outputs": [
        {
          "output_type": "execute_result",
          "data": {
            "text/plain": [
              "FiniteSet(1, 2, 3, 10, 20, 50)"
            ],
            "text/latex": "$\\displaystyle \\left\\{1, 2, 3, 10, 20, 50\\right\\}$"
          },
          "metadata": {},
          "execution_count": 63
        }
      ]
    },
    {
      "cell_type": "code",
      "source": [
        "giao = s.intersect(t).intersect(u)\n",
        "giao "
      ],
      "metadata": {
        "colab": {
          "base_uri": "https://localhost:8080/",
          "height": 37
        },
        "id": "4YPvTaZdIpi-",
        "outputId": "faa6c700-c2d3-4ad7-f3e2-700229c0dad7"
      },
      "execution_count": 64,
      "outputs": [
        {
          "output_type": "execute_result",
          "data": {
            "text/plain": [
              "FiniteSet(10)"
            ],
            "text/latex": "$\\displaystyle \\left\\{10\\right\\}$"
          },
          "metadata": {},
          "execution_count": 64
        }
      ]
    },
    {
      "cell_type": "code",
      "source": [
        "  from sympy import FiniteSet \n",
        "  u = FiniteSet(10, 20, 50)\n",
        "  v = FiniteSet(1, 2, 5)\n",
        "  rong = u.intersect(v)\n",
        "  rong\n",
        "\n",
        "  rong = v.intersect(u)\n",
        "  rong "
      ],
      "metadata": {
        "colab": {
          "base_uri": "https://localhost:8080/",
          "height": 37
        },
        "id": "L_4TUwCcIuGo",
        "outputId": "4366fba2-647d-4742-ddde-3390d1e005da"
      },
      "execution_count": 67,
      "outputs": [
        {
          "output_type": "execute_result",
          "data": {
            "text/plain": [
              "EmptySet"
            ],
            "text/latex": "$\\displaystyle \\emptyset$"
          },
          "metadata": {},
          "execution_count": 67
        }
      ]
    },
    {
      "cell_type": "code",
      "source": [
        "from sympy import FiniteSet \n",
        "v = FiniteSet(1, 2, 5)\n",
        "p = v ** 2\n",
        "p\n"
      ],
      "metadata": {
        "colab": {
          "base_uri": "https://localhost:8080/",
          "height": 38
        },
        "id": "0gCUP56gJFl7",
        "outputId": "abcd067b-5a8a-4233-a915-621cdca26347"
      },
      "execution_count": 69,
      "outputs": [
        {
          "output_type": "execute_result",
          "data": {
            "text/plain": [
              "ProductSet(FiniteSet(1, 2, 5), FiniteSet(1, 2, 5))"
            ],
            "text/latex": "$\\displaystyle \\left\\{1, 2, 5\\right\\}^{2}$"
          },
          "metadata": {},
          "execution_count": 69
        }
      ]
    },
    {
      "cell_type": "code",
      "source": [
        "for phantu in p:\n",
        " print(phantu)"
      ],
      "metadata": {
        "colab": {
          "base_uri": "https://localhost:8080/"
        },
        "id": "KlR6x_d0JSBl",
        "outputId": "9886465b-8c01-40ea-cef4-edfaff0b5d20"
      },
      "execution_count": 70,
      "outputs": [
        {
          "output_type": "stream",
          "name": "stdout",
          "text": [
            "(1, 1)\n",
            "(2, 1)\n",
            "(1, 2)\n",
            "(5, 1)\n",
            "(2, 2)\n",
            "(1, 5)\n",
            "(5, 2)\n",
            "(2, 5)\n",
            "(5, 5)\n"
          ]
        }
      ]
    },
    {
      "cell_type": "code",
      "source": [
        "from sympy import FiniteSet\n",
        "K = FiniteSet(35, 18, 27, 29, 24)\n",
        "for k in K:\n",
        " T = k/10.0\n",
        " print (T, k) "
      ],
      "metadata": {
        "colab": {
          "base_uri": "https://localhost:8080/"
        },
        "id": "XOP93JGEJWVa",
        "outputId": "a17011c6-a9a9-4745-f386-a74c69d65743"
      },
      "execution_count": 71,
      "outputs": [
        {
          "output_type": "stream",
          "name": "stdout",
          "text": [
            "1.80000000000000 18\n",
            "2.40000000000000 24\n",
            "2.70000000000000 27\n",
            "2.90000000000000 29\n",
            "3.50000000000000 35\n"
          ]
        }
      ]
    }
  ]
}