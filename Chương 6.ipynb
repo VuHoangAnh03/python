{
  "nbformat": 4,
  "nbformat_minor": 0,
  "metadata": {
    "colab": {
      "name": "Untitled2.ipynb",
      "provenance": [],
      "authorship_tag": "ABX9TyNISVrolSmBG8Cs+3EV9sE9",
      "include_colab_link": true
    },
    "kernelspec": {
      "name": "python3",
      "display_name": "Python 3"
    },
    "language_info": {
      "name": "python"
    }
  },
  "cells": [
    {
      "cell_type": "markdown",
      "metadata": {
        "id": "view-in-github",
        "colab_type": "text"
      },
      "source": [
        "<a href=\"https://colab.research.google.com/github/VuHoangAnh03/python/blob/main/Ch%C6%B0%C6%A1ng%206.ipynb\" target=\"_parent\"><img src=\"https://colab.research.google.com/assets/colab-badge.svg\" alt=\"Open In Colab\"/></a>"
      ]
    },
    {
      "cell_type": "markdown",
      "source": [
        "Thực hành 1: Viết hàm đệ quy tính n! "
      ],
      "metadata": {
        "id": "8v-m-vR-HZFf"
      }
    },
    {
      "cell_type": "code",
      "source": [
        "import math \n",
        "def giaithua(n): \n",
        "  if (n==0): \n",
        "    return 1 \n",
        "  else: \n",
        "      return n*giaithua(n-1) \n",
        "giaithua(3) \n"
      ],
      "metadata": {
        "colab": {
          "base_uri": "https://localhost:8080/"
        },
        "id": "FTyXqRujHZnC",
        "outputId": "af9ee23d-0ed6-40a4-be89-94b8432f60e7"
      },
      "execution_count": 2,
      "outputs": [
        {
          "output_type": "execute_result",
          "data": {
            "text/plain": [
              "6"
            ]
          },
          "metadata": {},
          "execution_count": 2
        }
      ]
    },
    {
      "cell_type": "code",
      "source": [
        "giaithua(4) "
      ],
      "metadata": {
        "colab": {
          "base_uri": "https://localhost:8080/"
        },
        "id": "ISG92SvrHvbX",
        "outputId": "c809a657-2e80-48d4-d7bc-9cee658487ca"
      },
      "execution_count": 3,
      "outputs": [
        {
          "output_type": "execute_result",
          "data": {
            "text/plain": [
              "24"
            ]
          },
          "metadata": {},
          "execution_count": 3
        }
      ]
    },
    {
      "cell_type": "markdown",
      "source": [
        "Thực hành 2: Viết hàm đệ quy tính dãy số Fibonacci "
      ],
      "metadata": {
        "id": "nSAwyjzmHxoR"
      }
    },
    {
      "cell_type": "code",
      "source": [
        " def fibo(n): \n",
        "  if n == 0: \n",
        "    return 0 \n",
        "  if n == 1: \n",
        "      return 1 \n",
        "  return fibo(n-1) + fibo(n-2) \n",
        "fibo(4) "
      ],
      "metadata": {
        "colab": {
          "base_uri": "https://localhost:8080/"
        },
        "id": "mCWAENO0HzNm",
        "outputId": "ec5a5274-cd21-4cfe-e979-cca2675466ac"
      },
      "execution_count": 4,
      "outputs": [
        {
          "output_type": "execute_result",
          "data": {
            "text/plain": [
              "3"
            ]
          },
          "metadata": {},
          "execution_count": 4
        }
      ]
    },
    {
      "cell_type": "code",
      "source": [
        " fibo(5) "
      ],
      "metadata": {
        "colab": {
          "base_uri": "https://localhost:8080/"
        },
        "id": "yWLqLGcUIDsQ",
        "outputId": "d26970b4-0d4c-4080-abff-98e7cf19463d"
      },
      "execution_count": 5,
      "outputs": [
        {
          "output_type": "execute_result",
          "data": {
            "text/plain": [
              "5"
            ]
          },
          "metadata": {},
          "execution_count": 5
        }
      ]
    },
    {
      "cell_type": "code",
      "source": [
        "fibo(6) "
      ],
      "metadata": {
        "colab": {
          "base_uri": "https://localhost:8080/"
        },
        "id": "eduJClFRIGXp",
        "outputId": "b97cc2e9-20bd-47ff-a287-b61399be4559"
      },
      "execution_count": 6,
      "outputs": [
        {
          "output_type": "execute_result",
          "data": {
            "text/plain": [
              "8"
            ]
          },
          "metadata": {},
          "execution_count": 6
        }
      ]
    },
    {
      "cell_type": "markdown",
      "source": [
        "Thực hành 3: Chứng minh dãy có giới hạn và tìm giới hạn của dãy "
      ],
      "metadata": {
        "id": "GwpyoSZdII-6"
      }
    },
    {
      "cell_type": "code",
      "source": [
        "def an_exp_an(n): \n",
        "  if n == 1: \n",
        "    return 1.0/2 \n",
        "  else: \n",
        "      return an_exp_an(n-1)**an_exp_an(n-1) \n",
        "an_exp_an(1) "
      ],
      "metadata": {
        "colab": {
          "base_uri": "https://localhost:8080/"
        },
        "id": "HkZTWyGeIJpC",
        "outputId": "1ffe1a56-a910-4d83-950c-c6c599b4eb2b"
      },
      "execution_count": 7,
      "outputs": [
        {
          "output_type": "execute_result",
          "data": {
            "text/plain": [
              "0.5"
            ]
          },
          "metadata": {},
          "execution_count": 7
        }
      ]
    },
    {
      "cell_type": "code",
      "source": [
        "an_exp_an(2) "
      ],
      "metadata": {
        "colab": {
          "base_uri": "https://localhost:8080/"
        },
        "id": "mIOuRuOkIW2O",
        "outputId": "7538f458-077d-4874-9dd0-2b732dfed149"
      },
      "execution_count": 8,
      "outputs": [
        {
          "output_type": "execute_result",
          "data": {
            "text/plain": [
              "0.7071067811865476"
            ]
          },
          "metadata": {},
          "execution_count": 8
        }
      ]
    },
    {
      "cell_type": "code",
      "source": [
        "an_exp_an(3) "
      ],
      "metadata": {
        "colab": {
          "base_uri": "https://localhost:8080/"
        },
        "id": "FIJxilnGIZVB",
        "outputId": "33e234bd-13b8-4a66-fc9f-75de7a35f343"
      },
      "execution_count": 9,
      "outputs": [
        {
          "output_type": "execute_result",
          "data": {
            "text/plain": [
              "0.7826540273556803"
            ]
          },
          "metadata": {},
          "execution_count": 9
        }
      ]
    },
    {
      "cell_type": "code",
      "source": [
        "an_exp_an(4) "
      ],
      "metadata": {
        "colab": {
          "base_uri": "https://localhost:8080/"
        },
        "id": "KxNfjbMlIa4Q",
        "outputId": "1e03e2d8-328f-4311-be88-713368694b5c"
      },
      "execution_count": 10,
      "outputs": [
        {
          "output_type": "execute_result",
          "data": {
            "text/plain": [
              "0.8254713306050621"
            ]
          },
          "metadata": {},
          "execution_count": 10
        }
      ]
    },
    {
      "cell_type": "code",
      "source": [
        "an_exp_an(5) "
      ],
      "metadata": {
        "colab": {
          "base_uri": "https://localhost:8080/"
        },
        "id": "8rzL9NxeIcsN",
        "outputId": "6671c828-7923-4fc0-d677-efe644904c82"
      },
      "execution_count": 11,
      "outputs": [
        {
          "output_type": "execute_result",
          "data": {
            "text/plain": [
              "0.8535714578150946"
            ]
          },
          "metadata": {},
          "execution_count": 11
        }
      ]
    },
    {
      "cell_type": "code",
      "source": [
        "an_exp_an(10) "
      ],
      "metadata": {
        "colab": {
          "base_uri": "https://localhost:8080/"
        },
        "id": "BLudJu1TIeQq",
        "outputId": "9b763e7a-6678-4cf0-bd6c-557fe2ea419c"
      },
      "execution_count": 12,
      "outputs": [
        {
          "output_type": "execute_result",
          "data": {
            "text/plain": [
              "0.9176411981636667"
            ]
          },
          "metadata": {},
          "execution_count": 12
        }
      ]
    },
    {
      "cell_type": "markdown",
      "source": [
        "Thực hành 4: Chứng minh dãy có giới hạn và tìm giới hạn của dãy "
      ],
      "metadata": {
        "id": "Nzh0WtUvIgwy"
      }
    },
    {
      "cell_type": "code",
      "source": [
        " def bai4(n): \n",
        "  if n==1: \n",
        "     return 4 \n",
        "  else: \n",
        "      return 5.0/(6-bai4(n-1)) \n",
        "bai4(5) "
      ],
      "metadata": {
        "colab": {
          "base_uri": "https://localhost:8080/"
        },
        "id": "aEA01KCuIhQ1",
        "outputId": "da8af91d-837c-48f0-ff18-ade884c31a3e"
      },
      "execution_count": 13,
      "outputs": [
        {
          "output_type": "execute_result",
          "data": {
            "text/plain": [
              "1.019108280254777"
            ]
          },
          "metadata": {},
          "execution_count": 13
        }
      ]
    },
    {
      "cell_type": "code",
      "source": [
        "bai4(6) "
      ],
      "metadata": {
        "colab": {
          "base_uri": "https://localhost:8080/"
        },
        "id": "gkdQArtWIwgT",
        "outputId": "1db027f7-886c-48da-c57d-76ea6d88d762"
      },
      "execution_count": 14,
      "outputs": [
        {
          "output_type": "execute_result",
          "data": {
            "text/plain": [
              "1.0038363171355498"
            ]
          },
          "metadata": {},
          "execution_count": 14
        }
      ]
    },
    {
      "cell_type": "code",
      "source": [
        "bai4(7) "
      ],
      "metadata": {
        "colab": {
          "base_uri": "https://localhost:8080/"
        },
        "id": "4zBco6FHIyuT",
        "outputId": "74d4006d-a697-4ac1-c2a8-914ac735a882"
      },
      "execution_count": 16,
      "outputs": [
        {
          "output_type": "execute_result",
          "data": {
            "text/plain": [
              "1.000767852572306"
            ]
          },
          "metadata": {},
          "execution_count": 16
        }
      ]
    },
    {
      "cell_type": "code",
      "source": [
        " bai4(10) "
      ],
      "metadata": {
        "colab": {
          "base_uri": "https://localhost:8080/"
        },
        "id": "MA35vM2hIzPl",
        "outputId": "6c4620c9-4504-4bf9-c72f-466d4aaf4e97"
      },
      "execution_count": 15,
      "outputs": [
        {
          "output_type": "execute_result",
          "data": {
            "text/plain": [
              "1.0000061439905628"
            ]
          },
          "metadata": {},
          "execution_count": 15
        }
      ]
    },
    {
      "cell_type": "code",
      "source": [
        "bai4(100) "
      ],
      "metadata": {
        "colab": {
          "base_uri": "https://localhost:8080/"
        },
        "id": "1H-Govv2I353",
        "outputId": "d92a646c-13e0-474e-95e8-a093cb0ede00"
      },
      "execution_count": 17,
      "outputs": [
        {
          "output_type": "execute_result",
          "data": {
            "text/plain": [
              "1.0"
            ]
          },
          "metadata": {},
          "execution_count": 17
        }
      ]
    },
    {
      "cell_type": "markdown",
      "source": [
        "Thực hành 5: Xét giới hạn của dãy biết dãy Fibonacci được định nghĩa như sau: \n",
        "\n",
        "\n"
      ],
      "metadata": {
        "id": "xzH97xDMI8H5"
      }
    },
    {
      "cell_type": "code",
      "source": [
        "deftisoFibo(n): \n",
        "  if n==1: \n",
        "    return 1 \n",
        "  else: \n",
        "    return 1.0 + 1.0/tisoFibo(n-1) \n",
        "  for i in range(1, 11): \n",
        "    print (i, tisoFibo(i)) "
      ],
      "metadata": {
        "colab": {
          "base_uri": "https://localhost:8080/",
          "height": 130
        },
        "id": "ydSPB_bOI9ET",
        "outputId": "2f66d1dd-94f4-4e11-dee9-424fcfe7024b"
      },
      "execution_count": 20,
      "outputs": [
        {
          "output_type": "error",
          "ename": "SyntaxError",
          "evalue": "ignored",
          "traceback": [
            "\u001b[0;36m  File \u001b[0;32m\"<ipython-input-20-3b938a8ce13d>\"\u001b[0;36m, line \u001b[0;32m1\u001b[0m\n\u001b[0;31m    deftisoFibo(n):\u001b[0m\n\u001b[0m                    ^\u001b[0m\n\u001b[0;31mSyntaxError\u001b[0m\u001b[0;31m:\u001b[0m invalid syntax\n"
          ]
        }
      ]
    }
  ]
}