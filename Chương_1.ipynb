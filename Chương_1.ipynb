{
  "nbformat": 4,
  "nbformat_minor": 0,
  "metadata": {
    "colab": {
      "name": "Chương_1.ipynb",
      "provenance": [],
      "collapsed_sections": [],
      "authorship_tag": "ABX9TyNhsyCLD9zIY7ZVe3d5gs6c",
      "include_colab_link": true
    },
    "kernelspec": {
      "name": "python3",
      "display_name": "Python 3"
    },
    "language_info": {
      "name": "python"
    }
  },
  "cells": [
    {
      "cell_type": "markdown",
      "metadata": {
        "id": "view-in-github",
        "colab_type": "text"
      },
      "source": [
        "<a href=\"https://colab.research.google.com/github/VuHoangAnh03/python/blob/main/Ch%C6%B0%C6%A1ng_1.ipynb\" target=\"_parent\"><img src=\"https://colab.research.google.com/assets/colab-badge.svg\" alt=\"Open In Colab\"/></a>"
      ]
    },
    {
      "cell_type": "markdown",
      "source": [
        "Thực hành 1\n"
      ],
      "metadata": {
        "id": "XcH70Br1xa0y"
      }
    },
    {
      "cell_type": "code",
      "source": [
        "n = 1000\n",
        "days = [1/2**k for k in range(0,n)]\n",
        "tong = sum(days)\n",
        "print(tong)"
      ],
      "metadata": {
        "colab": {
          "base_uri": "https://localhost:8080/"
        },
        "id": "UjSfskPIxdvr",
        "outputId": "1c84cd0a-d7a0-4594-8a00-dc733f53d5dd"
      },
      "execution_count": null,
      "outputs": [
        {
          "output_type": "stream",
          "name": "stdout",
          "text": [
            "2.0\n"
          ]
        }
      ]
    },
    {
      "cell_type": "markdown",
      "source": [
        "Thực hành 2\n"
      ],
      "metadata": {
        "id": "ZKUfdxrhy-KA"
      }
    },
    {
      "cell_type": "code",
      "source": [
        "n = 100\n",
        "x = [2*k/n for k in range(0,n+1)]\n",
        "s = 0\n",
        "for k in range(1,n+1):\n",
        "  s = s + x[k]**2*(x[k]-x[k-1])\n",
        "print(s)"
      ],
      "metadata": {
        "colab": {
          "base_uri": "https://localhost:8080/"
        },
        "id": "mp2LYMy5zDcF",
        "outputId": "094ef84e-d62e-43bf-d6eb-1d7a2f06467f"
      },
      "execution_count": null,
      "outputs": [
        {
          "output_type": "stream",
          "name": "stdout",
          "text": [
            "2.7068\n"
          ]
        }
      ]
    },
    {
      "cell_type": "markdown",
      "source": [
        "Thực hành 3"
      ],
      "metadata": {
        "id": "USCXorVE1-cO"
      }
    },
    {
      "cell_type": "code",
      "source": [
        "from sympy import*\n",
        "a = Rational(1,2) + Rational(2,3)\n",
        "b = Rational(1,2) + 1\n",
        "c = Rational(1,3) + 1 + 1.5\n",
        "print(a)\n",
        "print(b)\n",
        "print(c)"
      ],
      "metadata": {
        "colab": {
          "base_uri": "https://localhost:8080/"
        },
        "id": "3_hbr5jO2Az5",
        "outputId": "6625ba91-9a33-4068-8d48-af2348cf0417"
      },
      "execution_count": null,
      "outputs": [
        {
          "output_type": "stream",
          "name": "stdout",
          "text": [
            "7/6\n",
            "3/2\n",
            "2.83333333333333\n"
          ]
        }
      ]
    },
    {
      "cell_type": "markdown",
      "source": [
        "Thực hành 4"
      ],
      "metadata": {
        "id": "DorQuSFN60qE"
      }
    },
    {
      "cell_type": "code",
      "source": [
        "from sympy import *\n",
        "x = Symbol ('x')\n",
        "y = Symbol ('y')"
      ],
      "metadata": {
        "id": "i1YmCGqD62rb"
      },
      "execution_count": null,
      "outputs": []
    },
    {
      "cell_type": "code",
      "source": [
        "x+y+x-y"
      ],
      "metadata": {
        "colab": {
          "base_uri": "https://localhost:8080/",
          "height": 39
        },
        "id": "ssWKuP7VF0E9",
        "outputId": "6072b276-430b-439e-f27c-0680f37b13f0"
      },
      "execution_count": null,
      "outputs": [
        {
          "output_type": "execute_result",
          "data": {
            "text/latex": "$\\displaystyle 2 x$",
            "text/plain": [
              "2*x"
            ]
          },
          "metadata": {},
          "execution_count": 50
        }
      ]
    },
    {
      "cell_type": "markdown",
      "source": [
        "Thực hành 5a"
      ],
      "metadata": {
        "id": "dKTQ_MMlGkO4"
      }
    },
    {
      "cell_type": "code",
      "source": [
        "from sympy.solvers.solvers import denoms\n",
        "ep = (1/x)*1/(x-3)\n",
        "dd = denoms(ep)\n",
        "print(dd)"
      ],
      "metadata": {
        "colab": {
          "base_uri": "https://localhost:8080/"
        },
        "id": "sn5VQMPWGmek",
        "outputId": "587021f0-71b5-47c2-c0e1-345eecc46c0f"
      },
      "execution_count": null,
      "outputs": [
        {
          "output_type": "stream",
          "name": "stdout",
          "text": [
            "{x - 3, x}\n"
          ]
        }
      ]
    },
    {
      "cell_type": "markdown",
      "source": [
        "Thực hành 5b"
      ],
      "metadata": {
        "id": "H5vBDxdKHjYJ"
      }
    },
    {
      "cell_type": "code",
      "source": [
        "ep = (1+1/x)/(x-1)\n",
        "from sympy.solvers.solvers import denoms\n",
        "loai_tru = set()\n",
        "for d in denoms(ep):\n",
        "  for s in solve(d):\n",
        "      loai_tru.add(s)\n",
        "print(loai_tru)"
      ],
      "metadata": {
        "colab": {
          "base_uri": "https://localhost:8080/"
        },
        "id": "ZujjSf3qHmfV",
        "outputId": "55a658e4-4bb8-414a-8c4b-11ea15559411"
      },
      "execution_count": null,
      "outputs": [
        {
          "output_type": "stream",
          "name": "stdout",
          "text": [
            "{0, 1}\n"
          ]
        }
      ]
    },
    {
      "cell_type": "markdown",
      "source": [
        "Thực hành 6"
      ],
      "metadata": {
        "id": "E8C6nJOqI5Cq"
      }
    },
    {
      "cell_type": "code",
      "source": [
        "from sympy import Symbol\n",
        "x = Symbol('x', positive = true)\n",
        "if (x + 3)>0:\n",
        "  print('chắc chắn x+3 dương')\n",
        "else:\n",
        "  print('x+3 chưa chắc là số dương')\n"
      ],
      "metadata": {
        "colab": {
          "base_uri": "https://localhost:8080/"
        },
        "id": "24a3V9f6I6xh",
        "outputId": "1ae36ae3-9ca0-42a8-d23f-94a8f139e95d"
      },
      "execution_count": null,
      "outputs": [
        {
          "output_type": "stream",
          "name": "stdout",
          "text": [
            "chắc chắn x+3 dương\n"
          ]
        }
      ]
    },
    {
      "cell_type": "markdown",
      "source": [
        "Thực hành 7"
      ],
      "metadata": {
        "id": "vA7KIVo6MExz"
      }
    },
    {
      "cell_type": "code",
      "source": [
        "import sympy\n",
        "theta = 11\n",
        "2*sympy.sin(theta) == sympy.sin(theta) + sympy.sin(theta) "
      ],
      "metadata": {
        "colab": {
          "base_uri": "https://localhost:8080/"
        },
        "id": "lQ3BmLweMNue",
        "outputId": "01362f76-8127-4fef-8e7f-87805558ae28"
      },
      "execution_count": null,
      "outputs": [
        {
          "output_type": "execute_result",
          "data": {
            "text/plain": [
              "True"
            ]
          },
          "metadata": {},
          "execution_count": 67
        }
      ]
    },
    {
      "cell_type": "code",
      "source": [
        "(2*sympy.sin(theta)*sympy.cos(theta)).equals(sympy.sin(2*theta))"
      ],
      "metadata": {
        "colab": {
          "base_uri": "https://localhost:8080/"
        },
        "id": "McYmir5XNtbE",
        "outputId": "a5703db8-aa8f-491e-9c9a-95552bd8c2f3"
      },
      "execution_count": null,
      "outputs": [
        {
          "output_type": "execute_result",
          "data": {
            "text/plain": [
              "True"
            ]
          },
          "metadata": {},
          "execution_count": 69
        }
      ]
    },
    {
      "cell_type": "code",
      "source": [
        "Thực hành 8"
      ],
      "metadata": {
        "id": "j5F2QiNtOeDD"
      },
      "execution_count": null,
      "outputs": []
    },
    {
      "cell_type": "code",
      "source": [
        "from sympy import sin, solve, Symbol\n",
        "u = Symbol('u')\n",
        "t = Symbol('t')\n",
        "g = Symbol('g')\n",
        "theta = Symbol('theta')\n",
        "solve(u*sin(theta)-g*t, t)"
      ],
      "metadata": {
        "colab": {
          "base_uri": "https://localhost:8080/"
        },
        "id": "gUKCmvcmOgN2",
        "outputId": "5cbaf237-7793-4184-b845-7eb7033ef892"
      },
      "execution_count": null,
      "outputs": [
        {
          "output_type": "execute_result",
          "data": {
            "text/plain": [
              "[u*sin(theta)/g]"
            ]
          },
          "metadata": {},
          "execution_count": 70
        }
      ]
    },
    {
      "cell_type": "markdown",
      "source": [
        "Thực hành 9"
      ],
      "metadata": {
        "id": "sqYuhGvkqeYk"
      }
    },
    {
      "cell_type": "code",
      "source": [
        "from sympy import Limit, Symbol, S\n",
        "x = Symbol('x')\n",
        "Limit(1/x, x, S.Infinity)\n"
      ],
      "metadata": {
        "id": "H310akxEqiZy",
        "outputId": "5b51f9e3-bc61-4c39-e521-ce6f0d14d3d0",
        "colab": {
          "base_uri": "https://localhost:8080/",
          "height": 51
        }
      },
      "execution_count": 7,
      "outputs": [
        {
          "output_type": "execute_result",
          "data": {
            "text/latex": "$\\displaystyle \\lim_{x \\to \\infty} \\frac{1}{x}$",
            "text/plain": [
              "Limit(1/x, x, oo, dir='-')"
            ]
          },
          "metadata": {},
          "execution_count": 7
        }
      ]
    },
    {
      "cell_type": "code",
      "source": [
        "gioi_han = Limit(1/x, x, S.Infinity)\n",
        "gioi_han.doit()"
      ],
      "metadata": {
        "id": "gtNBpAv2rmCu",
        "outputId": "feca4a70-0bb0-4994-ce4e-9b871310cbdf",
        "colab": {
          "base_uri": "https://localhost:8080/",
          "height": 38
        }
      },
      "execution_count": 6,
      "outputs": [
        {
          "output_type": "execute_result",
          "data": {
            "text/latex": "$\\displaystyle 0$",
            "text/plain": [
              "0"
            ]
          },
          "metadata": {},
          "execution_count": 6
        }
      ]
    },
    {
      "cell_type": "markdown",
      "source": [
        "Thực hành 10"
      ],
      "metadata": {
        "id": "ahCVpknRruWz"
      }
    },
    {
      "cell_type": "code",
      "source": [
        "from sympy import Limit\n",
        "Limit(1/x, x, 0, dir='-').doit()\n"
      ],
      "metadata": {
        "id": "ItBkrFRsrwuu",
        "outputId": "4ba45763-0714-4fa4-bdb2-4117e907a42d",
        "colab": {
          "base_uri": "https://localhost:8080/",
          "height": 38
        }
      },
      "execution_count": 8,
      "outputs": [
        {
          "output_type": "execute_result",
          "data": {
            "text/latex": "$\\displaystyle -\\infty$",
            "text/plain": [
              "-oo"
            ]
          },
          "metadata": {},
          "execution_count": 8
        }
      ]
    },
    {
      "cell_type": "code",
      "source": [
        "Limit(1/x, x, 0, dir='+').doit()"
      ],
      "metadata": {
        "id": "l8tu0rhPsanO",
        "outputId": "b8b0211b-829d-4cea-fc4b-9aac1fba9717",
        "colab": {
          "base_uri": "https://localhost:8080/",
          "height": 38
        }
      },
      "execution_count": 10,
      "outputs": [
        {
          "output_type": "execute_result",
          "data": {
            "text/latex": "$\\displaystyle \\infty$",
            "text/plain": [
              "oo"
            ]
          },
          "metadata": {},
          "execution_count": 10
        }
      ]
    },
    {
      "cell_type": "code",
      "source": [
        "from sympy import Symbol, sin\n",
        "Limit(sin(x)/x,x,0).doit()"
      ],
      "metadata": {
        "id": "yR5FMvD5svU1",
        "outputId": "d7a41c34-0348-4c33-f794-0bd83784d3ab",
        "colab": {
          "base_uri": "https://localhost:8080/",
          "height": 38
        }
      },
      "execution_count": 12,
      "outputs": [
        {
          "output_type": "execute_result",
          "data": {
            "text/latex": "$\\displaystyle 1$",
            "text/plain": [
              "1"
            ]
          },
          "metadata": {},
          "execution_count": 12
        }
      ]
    }
  ]
}