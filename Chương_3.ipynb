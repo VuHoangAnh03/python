{
  "nbformat": 4,
  "nbformat_minor": 0,
  "metadata": {
    "colab": {
      "name": "Chương 3.ipynb",
      "provenance": [],
      "collapsed_sections": [],
      "authorship_tag": "ABX9TyMUg/DdCJSNV3Y3qVMbD4/j",
      "include_colab_link": true
    },
    "kernelspec": {
      "name": "python3",
      "display_name": "Python 3"
    },
    "language_info": {
      "name": "python"
    }
  },
  "cells": [
    {
      "cell_type": "markdown",
      "metadata": {
        "id": "view-in-github",
        "colab_type": "text"
      },
      "source": [
        "<a href=\"https://colab.research.google.com/github/VuHoangAnh03/python/blob/main/Ch%C6%B0%C6%A1ng_3.ipynb\" target=\"_parent\"><img src=\"https://colab.research.google.com/assets/colab-badge.svg\" alt=\"Open In Colab\"/></a>"
      ]
    },
    {
      "cell_type": "markdown",
      "source": [
        "Thực hành 1: Viết hàm từ dấu nhắc lệnh >>> của trình IDLE "
      ],
      "metadata": {
        "id": "JOZb97QKYm0G"
      }
    },
    {
      "cell_type": "code",
      "source": [
        "def luythua(x, n): \n",
        "  ketqua= 1 \n",
        "  for i in range(n): \n",
        "    ketqua = ketqua *x \n",
        "  return ketqua \n",
        "luythua(2,1) "
      ],
      "metadata": {
        "colab": {
          "base_uri": "https://localhost:8080/"
        },
        "id": "6SiNvgLIZ-hA",
        "outputId": "63bbff10-d290-4eb7-e2d6-a8062a1d8c60"
      },
      "execution_count": null,
      "outputs": [
        {
          "output_type": "execute_result",
          "data": {
            "text/plain": [
              "2"
            ]
          },
          "metadata": {},
          "execution_count": 1
        }
      ]
    },
    {
      "cell_type": "code",
      "source": [
        "luythua(2,0) "
      ],
      "metadata": {
        "colab": {
          "base_uri": "https://localhost:8080/"
        },
        "id": "GB5ao3YIaRq2",
        "outputId": "2ba91b69-73f3-4992-a705-c8a48eb7e43a"
      },
      "execution_count": null,
      "outputs": [
        {
          "output_type": "execute_result",
          "data": {
            "text/plain": [
              "1"
            ]
          },
          "metadata": {},
          "execution_count": 2
        }
      ]
    },
    {
      "cell_type": "markdown",
      "source": [
        "Thực hành 2: Lỗi và cơ chế bắt lỗi trong Python "
      ],
      "metadata": {
        "id": "Sgq3icMqaXAo"
      }
    },
    {
      "cell_type": "code",
      "source": [
        "while 1 = 2: "
      ],
      "metadata": {
        "colab": {
          "base_uri": "https://localhost:8080/",
          "height": 130
        },
        "id": "-SB5Af38aXru",
        "outputId": "08a2f618-33ec-41af-af3e-c6e16fc81125"
      },
      "execution_count": 2,
      "outputs": [
        {
          "output_type": "error",
          "ename": "SyntaxError",
          "evalue": "ignored",
          "traceback": [
            "\u001b[0;36m  File \u001b[0;32m\"<ipython-input-2-7c7a27450cf9>\"\u001b[0;36m, line \u001b[0;32m1\u001b[0m\n\u001b[0;31m    while 1 = 2:\u001b[0m\n\u001b[0m            ^\u001b[0m\n\u001b[0;31mSyntaxError\u001b[0m\u001b[0;31m:\u001b[0m invalid syntax\n"
          ]
        }
      ]
    },
    {
      "cell_type": "code",
      "source": [
        "10 * (1/0) "
      ],
      "metadata": {
        "id": "PEDrG9s3abdB"
      },
      "execution_count": null,
      "outputs": []
    },
    {
      "cell_type": "code",
      "source": [
        " 3 * bien_chua_khai_bao / 4 "
      ],
      "metadata": {
        "id": "6nF6IJycahcc"
      },
      "execution_count": null,
      "outputs": []
    },
    {
      "cell_type": "code",
      "source": [
        "‘ba’ + 7 "
      ],
      "metadata": {
        "id": "IMlZagOFajiC"
      },
      "execution_count": null,
      "outputs": []
    },
    {
      "cell_type": "code",
      "source": [
        "10 * (1/0) "
      ],
      "metadata": {
        "id": "Ueq2f5EBalq5"
      },
      "execution_count": null,
      "outputs": []
    },
    {
      "cell_type": "code",
      "source": [
        "'ba' + (1/0) "
      ],
      "metadata": {
        "colab": {
          "base_uri": "https://localhost:8080/",
          "height": 165
        },
        "id": "uT8dfbt1aoGa",
        "outputId": "b7c669e1-e75d-4818-cabb-7b65fbfa4ec7"
      },
      "execution_count": null,
      "outputs": [
        {
          "output_type": "error",
          "ename": "ZeroDivisionError",
          "evalue": "ignored",
          "traceback": [
            "\u001b[0;31m---------------------------------------------------------------------------\u001b[0m",
            "\u001b[0;31mZeroDivisionError\u001b[0m                         Traceback (most recent call last)",
            "\u001b[0;32m<ipython-input-8-9e51bb6188a2>\u001b[0m in \u001b[0;36m<module>\u001b[0;34m()\u001b[0m\n\u001b[0;32m----> 1\u001b[0;31m \u001b[0;34m'ba'\u001b[0m \u001b[0;34m+\u001b[0m \u001b[0;34m(\u001b[0m\u001b[0;36m1\u001b[0m\u001b[0;34m/\u001b[0m\u001b[0;36m0\u001b[0m\u001b[0;34m)\u001b[0m\u001b[0;34m\u001b[0m\u001b[0;34m\u001b[0m\u001b[0m\n\u001b[0m",
            "\u001b[0;31mZeroDivisionError\u001b[0m: division by zero"
          ]
        }
      ]
    },
    {
      "cell_type": "code",
      "source": [
        "'ba'+7+(1/0) "
      ],
      "metadata": {
        "colab": {
          "base_uri": "https://localhost:8080/",
          "height": 165
        },
        "id": "czmlpJm1apF6",
        "outputId": "556289f6-3631-4630-b3a2-c34cafc0df15"
      },
      "execution_count": null,
      "outputs": [
        {
          "output_type": "error",
          "ename": "TypeError",
          "evalue": "ignored",
          "traceback": [
            "\u001b[0;31m---------------------------------------------------------------------------\u001b[0m",
            "\u001b[0;31mTypeError\u001b[0m                                 Traceback (most recent call last)",
            "\u001b[0;32m<ipython-input-9-47abd1c64ab1>\u001b[0m in \u001b[0;36m<module>\u001b[0;34m()\u001b[0m\n\u001b[0;32m----> 1\u001b[0;31m \u001b[0;34m'ba'\u001b[0m\u001b[0;34m+\u001b[0m\u001b[0;36m7\u001b[0m\u001b[0;34m+\u001b[0m\u001b[0;34m(\u001b[0m\u001b[0;36m1\u001b[0m\u001b[0;34m/\u001b[0m\u001b[0;36m0\u001b[0m\u001b[0;34m)\u001b[0m\u001b[0;34m\u001b[0m\u001b[0;34m\u001b[0m\u001b[0m\n\u001b[0m",
            "\u001b[0;31mTypeError\u001b[0m: can only concatenate str (not \"int\") to str"
          ]
        }
      ]
    },
    {
      "cell_type": "markdown",
      "source": [
        "Thực hành 3: Xử lý ngoại lệ với cơ chế try... except "
      ],
      "metadata": {
        "id": "zhLJ-Op7a0vJ"
      }
    },
    {
      "cell_type": "code",
      "source": [
        "  x = int(input(“Vui long nhap so: ”))"
      ],
      "metadata": {
        "id": "uXVy7nd5a1P6"
      },
      "execution_count": null,
      "outputs": []
    },
    {
      "cell_type": "markdown",
      "source": [
        "Thực hành 4: Xử lý ngoại lệ với cơ chế try... except... else... finally "
      ],
      "metadata": {
        "id": "B7stR4OBtqAu"
      }
    },
    {
      "cell_type": "code",
      "source": [
        "while True: \n",
        "  try:\n",
        "    x = int(input('Vui long nhap so: ')) \n",
        "  except:\n",
        "    print ('So vua nhap sai')\n",
        "  else:\n",
        "    print ('so vua nhap la ' + str(x)) \n",
        "    break \n",
        "  finally:  \n",
        "    print ('Da hoan thanh chuong trinh') \n",
        "  \n"
      ],
      "metadata": {
        "id": "Jl3jsQ4ftqsb",
        "outputId": "3e6e48ed-b5e3-409b-ddcc-7f44e96aadf3",
        "colab": {
          "base_uri": "https://localhost:8080/"
        }
      },
      "execution_count": 1,
      "outputs": [
        {
          "output_type": "stream",
          "name": "stdout",
          "text": [
            "Vui long nhap so: 1\n",
            "so vua nhap la 1\n",
            "Da hoan thanh chuong trinh\n"
          ]
        }
      ]
    },
    {
      "cell_type": "markdown",
      "source": [
        "Thực hành 5: Tạo hàm phát sinh dãy số thực đều "
      ],
      "metadata": {
        "id": "aqcsRPo_ulTz"
      }
    },
    {
      "cell_type": "code",
      "source": [
        "  def frange(batdau, ketthuc, buocnhay): \n",
        "    day_ketqua = [] \n",
        "    while batdau < ketthuc: \n",
        "      day_ketqua.append(batdau) \n",
        "      batdau = batdau + buocnhay\n",
        "    return day_ketqua "
      ],
      "metadata": {
        "id": "hpmMZ4dCux2z"
      },
      "execution_count": 7,
      "outputs": []
    },
    {
      "cell_type": "markdown",
      "source": [
        "Thực hành 7: Vẽ nhiều quỹ đạo trên cùng một đồ thị"
      ],
      "metadata": {
        "id": "6fgi5JhpwLux"
      }
    },
    {
      "cell_type": "code",
      "source": [
        "if __name__ == '__main__' :\n",
        "  ds_vantoc = [20, 40, 60] \n",
        "  goc_bandau = 45  # 45 do \n",
        "  for v in ds_vantoc: \n",
        "    draw_trajectory(v, goc_bandau) \n",
        "  chudan = [] \n",
        "  for i in ds_vantoc:     \n",
        "          chudan.append(str(i)) \n",
        "  print (\"Chu dan duoc tao la: \")  \n",
        "  print (chudan) \n",
        "  plt.legend(chudan) \n",
        "  plt.show() \n",
        "  "
      ],
      "metadata": {
        "id": "r4olMtTWwiw7",
        "outputId": "c632289f-42e9-45c0-848c-6acd96310924",
        "colab": {
          "base_uri": "https://localhost:8080/",
          "height": 234
        }
      },
      "execution_count": 15,
      "outputs": [
        {
          "output_type": "error",
          "ename": "NameError",
          "evalue": "ignored",
          "traceback": [
            "\u001b[0;31m---------------------------------------------------------------------------\u001b[0m",
            "\u001b[0;31mNameError\u001b[0m                                 Traceback (most recent call last)",
            "\u001b[0;32m<ipython-input-15-323bc609326f>\u001b[0m in \u001b[0;36m<module>\u001b[0;34m()\u001b[0m\n\u001b[1;32m      3\u001b[0m   \u001b[0mgoc_bandau\u001b[0m \u001b[0;34m=\u001b[0m \u001b[0;36m45\u001b[0m  \u001b[0;31m# 45 do\u001b[0m\u001b[0;34m\u001b[0m\u001b[0;34m\u001b[0m\u001b[0m\n\u001b[1;32m      4\u001b[0m   \u001b[0;32mfor\u001b[0m \u001b[0mv\u001b[0m \u001b[0;32min\u001b[0m \u001b[0mds_vantoc\u001b[0m\u001b[0;34m:\u001b[0m\u001b[0;34m\u001b[0m\u001b[0;34m\u001b[0m\u001b[0m\n\u001b[0;32m----> 5\u001b[0;31m     \u001b[0mdraw_trajectory\u001b[0m\u001b[0;34m(\u001b[0m\u001b[0mv\u001b[0m\u001b[0;34m,\u001b[0m \u001b[0mgoc_bandau\u001b[0m\u001b[0;34m)\u001b[0m\u001b[0;34m\u001b[0m\u001b[0;34m\u001b[0m\u001b[0m\n\u001b[0m\u001b[1;32m      6\u001b[0m   \u001b[0mchudan\u001b[0m \u001b[0;34m=\u001b[0m \u001b[0;34m[\u001b[0m\u001b[0;34m]\u001b[0m\u001b[0;34m\u001b[0m\u001b[0;34m\u001b[0m\u001b[0m\n\u001b[1;32m      7\u001b[0m   \u001b[0;32mfor\u001b[0m \u001b[0mi\u001b[0m \u001b[0;32min\u001b[0m \u001b[0mds_vantoc\u001b[0m\u001b[0;34m:\u001b[0m\u001b[0;34m\u001b[0m\u001b[0;34m\u001b[0m\u001b[0m\n",
            "\u001b[0;31mNameError\u001b[0m: name 'draw_trajectory' is not defined"
          ]
        }
      ]
    }
  ]
}