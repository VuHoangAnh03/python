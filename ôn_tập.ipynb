{
  "nbformat": 4,
  "nbformat_minor": 0,
  "metadata": {
    "colab": {
      "name": "ôn tập.ipynb",
      "provenance": [],
      "authorship_tag": "ABX9TyNFl2F1TbzG83oxeGdXzpMR",
      "include_colab_link": true
    },
    "kernelspec": {
      "name": "python3",
      "display_name": "Python 3"
    },
    "language_info": {
      "name": "python"
    }
  },
  "cells": [
    {
      "cell_type": "markdown",
      "metadata": {
        "id": "view-in-github",
        "colab_type": "text"
      },
      "source": [
        "<a href=\"https://colab.research.google.com/github/VuHoangAnh03/python/blob/main/%C3%B4n_t%E1%BA%ADp.ipynb\" target=\"_parent\"><img src=\"https://colab.research.google.com/assets/colab-badge.svg\" alt=\"Open In Colab\"/></a>"
      ]
    },
    {
      "cell_type": "markdown",
      "source": [
        "Đạo hàmhàm"
      ],
      "metadata": {
        "id": "NLfipiM_jmiz"
      }
    },
    {
      "cell_type": "code",
      "execution_count": 7,
      "metadata": {
        "colab": {
          "base_uri": "https://localhost:8080/",
          "height": 54
        },
        "id": "upweuSbVdPLU",
        "outputId": "1fcfc10b-d194-4f6f-b0ac-f772df1eb797"
      },
      "outputs": [
        {
          "output_type": "execute_result",
          "data": {
            "text/plain": [
              "Derivative((2*x - 1)/(x + 2), x)"
            ],
            "text/latex": "$\\displaystyle \\frac{d}{d x} \\frac{2 x - 1}{x + 2}$"
          },
          "metadata": {},
          "execution_count": 7
        }
      ],
      "source": [
        "from sympy import Symbol, Derivative\n",
        "x = Symbol('x') \n",
        "sx = (2*x-1)/(x+2)\n",
        "Derivative(sx, x) \n"
      ]
    },
    {
      "cell_type": "code",
      "source": [
        "from sympy import Symbol, Derivative\n",
        "x = Symbol('x')\n",
        "y = x**4-5*x**2+4\n",
        "y"
      ],
      "metadata": {
        "colab": {
          "base_uri": "https://localhost:8080/",
          "height": 39
        },
        "id": "uxxH33-5hvvj",
        "outputId": "07e289cd-b1ad-4909-a023-49467c97c6ab"
      },
      "execution_count": 11,
      "outputs": [
        {
          "output_type": "execute_result",
          "data": {
            "text/plain": [
              "x**4 - 5*x**2 + 4"
            ],
            "text/latex": "$\\displaystyle x^{4} - 5 x^{2} + 4$"
          },
          "metadata": {},
          "execution_count": 11
        }
      ]
    },
    {
      "cell_type": "code",
      "source": [
        "Derivative(y,x).doit()"
      ],
      "metadata": {
        "colab": {
          "base_uri": "https://localhost:8080/",
          "height": 39
        },
        "id": "IMa_fYg0inXI",
        "outputId": "cd12f044-64bc-4f1f-c2df-2b153cd3c514"
      },
      "execution_count": 17,
      "outputs": [
        {
          "output_type": "execute_result",
          "data": {
            "text/plain": [
              "4*x**3 - 10*x"
            ],
            "text/latex": "$\\displaystyle 4 x^{3} - 10 x$"
          },
          "metadata": {},
          "execution_count": 17
        }
      ]
    },
    {
      "cell_type": "markdown",
      "source": [
        "Tích phân"
      ],
      "metadata": {
        "id": "OQe5uWCpjuzC"
      }
    },
    {
      "cell_type": "code",
      "source": [
        "from sympy import Symbol, Integral\n",
        "x = Symbol('x')\n",
        "tich_phan = (2*x+1)/(x*(x+1))\n",
        "ket_qua = Integral(tich_phan,(x,1,2))\n",
        "ket_qua"
      ],
      "metadata": {
        "colab": {
          "base_uri": "https://localhost:8080/",
          "height": 79
        },
        "id": "nF9ifpPAjwiz",
        "outputId": "fc15e1dc-ea75-4417-a2f7-668818be6337"
      },
      "execution_count": 19,
      "outputs": [
        {
          "output_type": "execute_result",
          "data": {
            "text/plain": [
              "Integral((2*x + 1)/(x*(x + 1)), (x, 1, 2))"
            ],
            "text/latex": "$\\displaystyle \\int\\limits_{1}^{2} \\frac{2 x + 1}{x \\left(x + 1\\right)}\\, dx$"
          },
          "metadata": {},
          "execution_count": 19
        }
      ]
    },
    {
      "cell_type": "code",
      "source": [
        "ket_qua.doit()"
      ],
      "metadata": {
        "colab": {
          "base_uri": "https://localhost:8080/",
          "height": 38
        },
        "id": "Am6bu3elmF2e",
        "outputId": "ee3933f4-f9c0-4886-cd93-6510784d7fa8"
      },
      "execution_count": 22,
      "outputs": [
        {
          "output_type": "execute_result",
          "data": {
            "text/plain": [
              "-log(2) + log(6)"
            ],
            "text/latex": "$\\displaystyle - \\log{\\left(2 \\right)} + \\log{\\left(6 \\right)}$"
          },
          "metadata": {},
          "execution_count": 22
        }
      ]
    }
  ]
}