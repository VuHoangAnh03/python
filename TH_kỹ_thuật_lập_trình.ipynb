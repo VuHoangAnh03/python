{
  "nbformat": 4,
  "nbformat_minor": 0,
  "metadata": {
    "colab": {
      "name": "TH kỹ thuật lập trình.ipynb",
      "provenance": [],
      "authorship_tag": "ABX9TyOvORvAvQcE/njQhmT2iSc7",
      "include_colab_link": true
    },
    "kernelspec": {
      "name": "python3",
      "display_name": "Python 3"
    },
    "language_info": {
      "name": "python"
    }
  },
  "cells": [
    {
      "cell_type": "markdown",
      "metadata": {
        "id": "view-in-github",
        "colab_type": "text"
      },
      "source": [
        "<a href=\"https://colab.research.google.com/github/VuHoangAnh03/python/blob/main/TH_k%E1%BB%B9_thu%E1%BA%ADt_l%E1%BA%ADp_tr%C3%ACnh.ipynb\" target=\"_parent\"><img src=\"https://colab.research.google.com/assets/colab-badge.svg\" alt=\"Open In Colab\"/></a>"
      ]
    },
    {
      "cell_type": "code",
      "execution_count": 6,
      "metadata": {
        "colab": {
          "base_uri": "https://localhost:8080/"
        },
        "id": "eKK86RoWT_E_",
        "outputId": "1deda3f7-9c6d-4215-a205-4f43efa1d5f8"
      },
      "outputs": [
        {
          "output_type": "stream",
          "name": "stdout",
          "text": [
            "họ và tên sv: Vũ Hoàng Anh\n",
            "lớp k27\n"
          ]
        }
      ],
      "source": [
        "def tenham():\n",
        "  print(\"họ và tên sv: Vũ Hoàng Anh\")\n",
        "  print(\"lớp k27\")\n",
        "tenham()"
      ]
    },
    {
      "cell_type": "code",
      "source": [
        "def tenham(chuoi,so):\n",
        "  print(\"họ và ten:\"+chuoi)\n",
        "  print(\"tuổi:\"+str(so))\n",
        "tenham(\"Vũ Hoàng Anh\",19)"
      ],
      "metadata": {
        "colab": {
          "base_uri": "https://localhost:8080/"
        },
        "id": "GfSIukmhVEUA",
        "outputId": "81ad420a-f131-4f18-abdb-4337c02dbc59"
      },
      "execution_count": 13,
      "outputs": [
        {
          "output_type": "stream",
          "name": "stdout",
          "text": [
            "họ và ten:Vũ Hoàng Anh\n",
            "tuổi:19\n"
          ]
        }
      ]
    },
    {
      "cell_type": "code",
      "source": [
        "def cong(a,b):\n",
        "  return a+b\n",
        "kq=cong(10,5)\n",
        "print(\"kết quả a + b là: \"+str(kq))"
      ],
      "metadata": {
        "colab": {
          "base_uri": "https://localhost:8080/"
        },
        "id": "ejac-egdWGQ1",
        "outputId": "faa8a68c-a4b4-4b65-bfca-f70be1c1f8e5"
      },
      "execution_count": 19,
      "outputs": [
        {
          "output_type": "stream",
          "name": "stdout",
          "text": [
            "kết quả a + b là: 15\n"
          ]
        }
      ]
    }
  ]
}