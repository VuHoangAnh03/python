{
  "nbformat": 4,
  "nbformat_minor": 0,
  "metadata": {
    "colab": {
      "name": "kiểm tra.ipynb",
      "provenance": [],
      "authorship_tag": "ABX9TyO9hGsUB+fNF1xn99HF7nIS",
      "include_colab_link": true
    },
    "kernelspec": {
      "name": "python3",
      "display_name": "Python 3"
    },
    "language_info": {
      "name": "python"
    }
  },
  "cells": [
    {
      "cell_type": "markdown",
      "metadata": {
        "id": "view-in-github",
        "colab_type": "text"
      },
      "source": [
        "<a href=\"https://colab.research.google.com/github/VuHoangAnh03/python/blob/main/ki%E1%BB%83m_tra.ipynb\" target=\"_parent\"><img src=\"https://colab.research.google.com/assets/colab-badge.svg\" alt=\"Open In Colab\"/></a>"
      ]
    },
    {
      "cell_type": "markdown",
      "source": [
        "2. Đạo hàm"
      ],
      "metadata": {
        "id": "NLfipiM_jmiz"
      }
    },
    {
      "cell_type": "code",
      "execution_count": 6,
      "metadata": {
        "id": "upweuSbVdPLU"
      },
      "outputs": [],
      "source": [
        "from sympy import Symbol, Derivative\n",
        "x = Symbol('x') \n",
        "sx = (2*x-1)/(x+2)\n",
        "d = Derivative(sx, x) \n"
      ]
    },
    {
      "cell_type": "code",
      "source": [
        "d.doit()"
      ],
      "metadata": {
        "colab": {
          "base_uri": "https://localhost:8080/",
          "height": 58
        },
        "id": "sj4uQPgDmddK",
        "outputId": "7f0351ac-0523-426a-e873-eda43cb2d637"
      },
      "execution_count": 7,
      "outputs": [
        {
          "output_type": "execute_result",
          "data": {
            "text/plain": [
              "2/(x + 2) - (2*x - 1)/(x + 2)**2"
            ],
            "text/latex": "$\\displaystyle \\frac{2}{x + 2} - \\frac{2 x - 1}{\\left(x + 2\\right)^{2}}$"
          },
          "metadata": {},
          "execution_count": 7
        }
      ]
    },
    {
      "cell_type": "markdown",
      "source": [
        "7. Đạo hàm"
      ],
      "metadata": {
        "id": "Sold5TpQhhCQ"
      }
    },
    {
      "cell_type": "code",
      "source": [
        "from sympy import Symbol, Derivative\n",
        "x = Symbol('x')\n",
        "y = x**4-5*x**2+4\n",
        "y"
      ],
      "metadata": {
        "colab": {
          "base_uri": "https://localhost:8080/",
          "height": 39
        },
        "id": "uxxH33-5hvvj",
        "outputId": "07e289cd-b1ad-4909-a023-49467c97c6ab"
      },
      "execution_count": null,
      "outputs": [
        {
          "output_type": "execute_result",
          "data": {
            "text/plain": [
              "x**4 - 5*x**2 + 4"
            ],
            "text/latex": "$\\displaystyle x^{4} - 5 x^{2} + 4$"
          },
          "metadata": {},
          "execution_count": 11
        }
      ]
    },
    {
      "cell_type": "code",
      "source": [
        "Derivative(y,x).doit()"
      ],
      "metadata": {
        "colab": {
          "base_uri": "https://localhost:8080/",
          "height": 39
        },
        "id": "IMa_fYg0inXI",
        "outputId": "cd12f044-64bc-4f1f-c2df-2b153cd3c514"
      },
      "execution_count": null,
      "outputs": [
        {
          "output_type": "execute_result",
          "data": {
            "text/plain": [
              "4*x**3 - 10*x"
            ],
            "text/latex": "$\\displaystyle 4 x^{3} - 10 x$"
          },
          "metadata": {},
          "execution_count": 17
        }
      ]
    },
    {
      "cell_type": "markdown",
      "source": [
        "5. Tích phân"
      ],
      "metadata": {
        "id": "OQe5uWCpjuzC"
      }
    },
    {
      "cell_type": "code",
      "source": [
        "from sympy import Symbol, Integral\n",
        "x = Symbol('x')\n",
        "tich_phan = (2*x+1)/(x*(x+1))\n",
        "ket_qua = Integral(tich_phan,(x,1,2))\n",
        "ket_qua"
      ],
      "metadata": {
        "colab": {
          "base_uri": "https://localhost:8080/",
          "height": 79
        },
        "id": "nF9ifpPAjwiz",
        "outputId": "fc15e1dc-ea75-4417-a2f7-668818be6337"
      },
      "execution_count": null,
      "outputs": [
        {
          "output_type": "execute_result",
          "data": {
            "text/plain": [
              "Integral((2*x + 1)/(x*(x + 1)), (x, 1, 2))"
            ],
            "text/latex": "$\\displaystyle \\int\\limits_{1}^{2} \\frac{2 x + 1}{x \\left(x + 1\\right)}\\, dx$"
          },
          "metadata": {},
          "execution_count": 19
        }
      ]
    },
    {
      "cell_type": "code",
      "source": [
        "ket_qua.doit()"
      ],
      "metadata": {
        "colab": {
          "base_uri": "https://localhost:8080/",
          "height": 38
        },
        "id": "Am6bu3elmF2e",
        "outputId": "ee3933f4-f9c0-4886-cd93-6510784d7fa8"
      },
      "execution_count": null,
      "outputs": [
        {
          "output_type": "execute_result",
          "data": {
            "text/plain": [
              "-log(2) + log(6)"
            ],
            "text/latex": "$\\displaystyle - \\log{\\left(2 \\right)} + \\log{\\left(6 \\right)}$"
          },
          "metadata": {},
          "execution_count": 22
        }
      ]
    },
    {
      "cell_type": "code",
      "source": [
        ""
      ],
      "metadata": {
        "id": "oOl-phUAoD9V"
      },
      "execution_count": null,
      "outputs": []
    },
    {
      "cell_type": "markdown",
      "source": [
        "1. Tích phân"
      ],
      "metadata": {
        "id": "_arX15fjh4K4"
      }
    },
    {
      "cell_type": "code",
      "source": [
        "from sympy import Symbol, Integral\n",
        "x = Symbol('x')\n",
        "tich_phan = (2*x-1)/(x+1)\n",
        "ket_qua = Integral(tich_phan,(x,0,1))\n",
        "ket_qua"
      ],
      "metadata": {
        "colab": {
          "base_uri": "https://localhost:8080/",
          "height": 79
        },
        "id": "jdAGYGhCh-ny",
        "outputId": "b77663d7-784c-4d2d-d0c5-ed0f00e9e7d1"
      },
      "execution_count": 1,
      "outputs": [
        {
          "output_type": "execute_result",
          "data": {
            "text/plain": [
              "Integral((2*x - 1)/(x + 1), (x, 0, 1))"
            ],
            "text/latex": "$\\displaystyle \\int\\limits_{0}^{1} \\frac{2 x - 1}{x + 1}\\, dx$"
          },
          "metadata": {},
          "execution_count": 1
        }
      ]
    },
    {
      "cell_type": "code",
      "source": [
        "ket_qua.doit()"
      ],
      "metadata": {
        "colab": {
          "base_uri": "https://localhost:8080/",
          "height": 38
        },
        "id": "obtlmu_Mir7o",
        "outputId": "f252e3ca-219e-4664-efd4-45251e5a3153"
      },
      "execution_count": 2,
      "outputs": [
        {
          "output_type": "execute_result",
          "data": {
            "text/plain": [
              "2 - 3*log(2)"
            ],
            "text/latex": "$\\displaystyle 2 - 3 \\log{\\left(2 \\right)}$"
          },
          "metadata": {},
          "execution_count": 2
        }
      ]
    }
  ]
}